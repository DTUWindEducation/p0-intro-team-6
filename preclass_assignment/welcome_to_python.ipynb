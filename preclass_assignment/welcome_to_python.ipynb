{
 "cells": [
  {
   "cell_type": "markdown",
   "metadata": {},
   "source": [
    "# A speed-run of Python basics\n",
    "\n",
    "For people who are new to Python but have a small familiarity with programming. The informational text is interspersed with exercises, which you should complete.\n",
    "\n",
    "## Want to speed-run this speed-run?\n",
    "\n",
    "Almost every section has a \"FINAL MODULE EXERCISE\". Skip to that exercise and see if you can complete it."
   ]
  },
  {
   "cell_type": "markdown",
   "metadata": {},
   "source": [
    "## 1. Introduction to this notebook\n",
    "\n",
    "This document is what is called a \"Jupyter notebook\". If you don't know how to use a Jupyter notebook in VS Code, see [this video tutorial](https://pythonsupport.dtu.dk/videos/index.html).\n",
    "\n",
    "You should know how to execute code cells and update text in Markdown cells. Note that order of executing cells is important. Use the \"Run all\" button at the top or the \"Execute all cells above\" in a given cell if things get weird.\n",
    "\n"
   ]
  },
  {
   "cell_type": "markdown",
   "metadata": {},
   "source": [
    "## 2. Functions and the print statement\n",
    "\n",
    "A function in a program is similar in nature to a mathematical function. There are (usually) inputs, that get changed in some way, and then are returned as outputs. An easy way to think of a function is a black box: you know what goes in and what goes out, and what is inside is hidden. Functions are essential because they allow you to re-use the same code instead of having to copy and paste it.\n",
    "\n",
    "Consider a function that calculates the square of a number. We can draw this function as ablack box:\n",
    "\n",
    "<img src=\"square_diagram.png\" alt=\"Drawing\" style=\"width: 500px;\"/>"
   ]
  },
  {
   "cell_type": "markdown",
   "metadata": {},
   "source": [
    "**EXERCISE:** If the input to the function `square` is 2, what is the expected output?\n",
    "\n",
    "**ANSWER**: y^2"
   ]
  },
  {
   "cell_type": "markdown",
   "metadata": {},
   "source": [
    "To use functions in Python, you must:  \n",
    "  1. First define the function using the `def` statement. This does not perform any computations, but \"sets up\" the calculation steps.\n",
    "  2. \"Call\" (or execute) the function on your desired inputs.\n",
    "\n",
    "The fact that these two steps are different is what makes functions so versatile. We can define a generic function, like `square()`, and then call it on multiple inputs.\n",
    "\n",
    "Note that Python does not print anything to screen unless we explicitly ask it to. This is where the `print()` statement can come in handy for basic functions, although for more complicated programming we should use debuggers available in VS Code, PyCharm, Spyder, etc.\n",
    "\n",
    "**EXERCISE**: \n",
    " 1. READ the code in the cell below. What do you think will happen?  \n",
    "    * It calcultates the square of the x that we give it*\n",
    " 2. Run the code in the cell by clicking on it and hitting SHIFT+ENTER. Does the cell print what you expected?\n",
    " 3. Comment out the `print()` statement by placing a `#` in front of it. Rerun the code. What changed? Why?  \n",
    "    *We calculate it but we should use print to display it*\n",
    " 4. Add code at the end of the cell to calculate the square of 16 using `square()` and printing the result to the console."
   ]
  },
  {
   "cell_type": "code",
   "execution_count": 19,
   "metadata": {},
   "outputs": [
    {
     "name": "stdout",
     "output_type": "stream",
     "text": [
      "The value of y is 4\n",
      "the square of z is: 256\n"
     ]
    }
   ],
   "source": [
    "# Step 1: Define our function\n",
    "def square(x):  # inputs to the function are placed inside the parentheses\n",
    "    \"\"\"Calculate the square of a function.\"\"\"  # This line is called a \"docstring\"; it is optional but recommended! It lets you explain what the function does.\n",
    "    return x**2  # define what the function returns. Note that ** is the power operator, * is multiply.\n",
    "\n",
    "# Step 2: Define our inputs and then call the function\n",
    "x = 2  # define a variable \"x\", which has a value of 2\n",
    "y = square(x)  # call function \"square\" on variable x, and assign the output of \"square\" to variable \"y\"\n",
    "print('The value of y is', y)  # print the value of variable \"y\" to the console\n",
    "\n",
    "# Insert your code here!\n",
    "z = 16\n",
    "z_square = square(z)\n",
    "print(f\"the square of z is: {z_square}\")"
   ]
  },
  {
   "cell_type": "markdown",
   "metadata": {},
   "source": [
    "**FINAL MODULE EXERCISE**\n",
    "\n",
    "An example is given below showing a function that calculates $y=ax+b$.  \n",
    "  1. Make a function called `evaluate_parabola()` that calculates $y = ax^2 + bx + c$. (You might need to Google how to do a power in Python!)  \n",
    "  2. Make a docstring for your function with an accurate description.  \n",
    "  3. Test `evaluate_parabola()` on inputs of your choosing, and verify that the output is correct.  "
   ]
  },
  {
   "cell_type": "code",
   "execution_count": 37,
   "metadata": {},
   "outputs": [
    {
     "name": "stdout",
     "output_type": "stream",
     "text": [
      "The value of 1*1 + 2 is 3\n",
      "27\n"
     ]
    }
   ],
   "source": [
    "def evaluate_line(a, b, x):\n",
    "    \"\"\"Calculate y = a*x + b for a number x.\"\"\"\n",
    "    return a*x + b\n",
    "\n",
    "# Example of calling evaluate_line\n",
    "a, b, x = 1, 2, 1  # define function inputs (using \"unpacking\", which allows multiple variable definitions on the same line)\n",
    "y = evaluate_line(a, b, x)  # call the function\n",
    "print(f'The value of {a}*{x} + {b} is {y}')  # Here I've used f-string formatting for fancier printing. Look up a tutorial to get more info!\n",
    "\n",
    "# Insert your code here!\n",
    "def evaluate_parabola(a,b,c,x):\n",
    "    \"\"\"Calculate y = a*x**2 + b*x + c for a number x.\"\"\"\n",
    "    return a*x**2 + b*x + c\n",
    "\n",
    "par = evaluate_parabola(1,2,3,4)\n",
    "print(par)"
   ]
  },
  {
   "cell_type": "markdown",
   "metadata": {},
   "source": [
    "## 3. Strings and lists\n",
    "\n",
    "Python is not limited to just numbers -- it can also be used to manipulate text and collections of objects.\n",
    "\n",
    "Data that is of a textual nature is called a \"string\" object in Python. Strings can be manipulated, e.g., split and put back together. We will only cover the most basic of string operations here. Consider looking up more detailed tutorials on strings in Python if you find yourself manipulating strings a lot.\n",
    "\n",
    "One of the most common thing we do with strings and other \"iterable\" objects (we'll come back to this later), is to isolate certain subsets of the object. For example, we want only the first element, or the last element.\n",
    "\n",
    "**EXERCISE**:\n",
    " 1. Read the code below. What you think the output will be?  \n",
    "    In the first function we get the type of the variable and we can also get the the value of the a part of an array. A string is in fact a array of \n",
    " 2. Run the code. Did you guess correctly?  \n",
    "    yes I did"
   ]
  },
  {
   "cell_type": "code",
   "execution_count": 38,
   "metadata": {},
   "outputs": [
    {
     "name": "stdout",
     "output_type": "stream",
     "text": [
      "This object is type <class 'str'>\n",
      "The first letter is I\n",
      "The last letter is !\n",
      "The middle letters are  love cats\n"
     ]
    }
   ],
   "source": [
    "i_say = 'I love cats!'  # define a string object, save it to variable \"i_say\"\n",
    "print('This object is type', type(i_say))  # what type of Python object is this?\n",
    "\n",
    "first_letter = i_say[0]  # index the string to get the first character (NOTE Python indexes from 0, not 1!)\n",
    "last_letter = i_say[-1]  # index the string to get the last letter\n",
    "middle_letters = i_say[1:-1]  # index the string using the colon operator to get everything from the second element (inclusive) to the last element (non-inclusive)\n",
    "\n",
    "print('The first letter is', first_letter)\n",
    "print('The last letter is', last_letter)\n",
    "print('The middle letters are', middle_letters)"
   ]
  },
  {
   "cell_type": "markdown",
   "metadata": {},
   "source": [
    "Another common operation is to split a string into words, i.e., wherever there is whitespace. Here we can use the built-in string method `.split()`. A \"method\" is the name for a function that is bundled with a specific object. You don't need to worry much about the difference between a method and a function right now. The most relevant thing is that object-specific methods are accessible via the `.` after the object, which you will see in actino below.\n",
    "\n",
    "The example below shows how we can use the `.split()` method on strings. Note that `.split()` returns a new type of object, called a list. A list is just that: a collection of things that we want grouped together. Lists can be indexed just like strings. This is what makes them an \"iterable\", meaning that we can iterate over the elements. (We'll do this in a later section.) Note that indexing a single element of a list returns the element itself, but indexing a subset of the list returns a new list."
   ]
  },
  {
   "cell_type": "code",
   "execution_count": 39,
   "metadata": {},
   "outputs": [
    {
     "name": "stdout",
     "output_type": "stream",
     "text": [
      "This object is type <class 'list'>\n",
      "The first word is I\n",
      "The last word is cats!\n",
      "The middle word are ['love']\n"
     ]
    }
   ],
   "source": [
    "words = i_say.split()  # split a string at the white spaces, and return a LIST of the words\n",
    "print('This object is type', type(words))  # what type of Python object is this?\n",
    "\n",
    "first_word = words[0]  # we index lists just like with strings!\n",
    "last_word = words[-1]  # indexing a single element of a list returns just the element, so last_word is a string\n",
    "middle_words = words[1:-1]  # but indexing subsets of lists will return a new list!\n",
    "\n",
    "print('The first word is', first_word)\n",
    "print('The last word is', last_word)\n",
    "print('The middle word are', middle_words)  # this is a list (of one element), so it is printed with square brackets"
   ]
  },
  {
   "cell_type": "markdown",
   "metadata": {},
   "source": [
    "We can define our own lists, and we can go crazy with what we want inside the list. There is no rule that the elements in the list need to be the same type of object. There are examples of different types of lists below.\n",
    "\n",
    "We often need to know how many elements are in a list, string, or other iterable object. The built-in function `len()` is used to calculate the number of elements in an iterable.\n",
    "\n",
    "**FINAL MODULE EXERCISE**\n",
    "\n",
    "A selection of long text is given below.\n",
    " 1. Use the `split()` method to split the string on periods, returning a list of sentences. NOTE that you might need to Google how to use `.split()` on a period instead of whitespace!\n",
    " 2. Use indexing to isolate the second sentence from your list of sentences.\n",
    " 3. Split the second sentence into words, and calculate/print how many words there are in the second sentence."
   ]
  },
  {
   "cell_type": "code",
   "execution_count": 56,
   "metadata": {},
   "outputs": [
    {
     "name": "stdout",
     "output_type": "stream",
     "text": [
      "There are 3 elements in mixed_list.\n",
      "they are 11 in the second sentence.\n"
     ]
    }
   ],
   "source": [
    "list_of_letters = ['a', 'b', 'c']  # a list of letters\n",
    "list_of_numbers = [1, 2, 3]  # a list of numbers\n",
    "mixed_list = ['a', 2, [3, 4]]  # a list of different types of objects: string, integer, and a list!\n",
    "\n",
    "print('There are', len(mixed_list), 'elements in mixed_list.')  # evaluate the length of mixed_list, i.e., how many elements it contains.\n",
    "\n",
    "long_text = 'I love cats quite a lot. And to be honest dogs are pretty cool as well. But nothing is quite like a good slice of cake.'\n",
    "\n",
    "# Insert your code here!\n",
    "list_of_sentence = long_text.split(sep = '.')\n",
    "second_sentence = list_of_sentence[1]\n",
    "list_of_words = second_sentence.split(sep = ' ')\n",
    "nb_word = len(list_of_words)\n",
    "print(f\"they are {nb_word} in the second sentence.\")"
   ]
  },
  {
   "cell_type": "markdown",
   "metadata": {},
   "source": [
    "## 4. For and while loops\n",
    "\n",
    "A loop is something occurs again and again, until a specified stop condition is met. There are two types of loops: ones that have a fixed number of iterations (for loops), and ones that iterate until a condition is satisfied (while loops). For loops are extremely common in science; for example, if you have a bunch of data files and you want to process each one the same way. While loops can be useful in numerical solvers for nonlinear equations.\n",
    "\n",
    "### While loops: Iterate until a condition is met\n",
    "\n",
    "What is the largest power of 2 that is less than 280? Let's say you need to calculate this for your research. Of course you can do it by clever usage of log-base-2, but how could we do this numerically? A while loop!\n",
    "\n",
    "Below is an example of how we can use a while loop to solve this problem. We start with an initial guess, and then continuously multiply that initial guess until it becomes larger than our max value.\n",
    "\n",
    "**EXERCISE**:\n",
    "1. Write with pen and paper what the value for `x` should be for each iteration, and when the loop should finally stop. On what iteration will the loop stop?  \n",
    "    For example, Iteration 0: x = 1, Iteration 1: x = 2, Iteration 2... (etc.)\n",
    "2. Why do we need to undo the last iteration?"
   ]
  },
  {
   "cell_type": "code",
   "execution_count": 57,
   "metadata": {},
   "outputs": [
    {
     "name": "stdout",
     "output_type": "stream",
     "text": [
      "Iteration 0 , x = 1\n",
      "Iteration 1 , x = 2\n",
      "Iteration 2 , x = 4\n",
      "Iteration 3 , x = 8\n",
      "Iteration 4 , x = 16\n",
      "Iteration 5 , x = 32\n",
      "Iteration 6 , x = 64\n",
      "Iteration 7 , x = 128\n",
      "Iteration 8 , x = 256\n",
      "Iteration 9 , x = 512\n",
      "Final! 256\n"
     ]
    }
   ],
   "source": [
    "x_max = 280  # the upper allowable value for x\n",
    "\n",
    "x = 1  # starting guess\n",
    "iteration = 0  # add an iteration counter for learning purposes, starting at 0\n",
    "print('Iteration', iteration, ', x =', x)  # print the current x for learning purposes\n",
    "while x <= x_max:  # create a code block that will iterate until the value of x is no longer less than or equal to x_max\n",
    "    x = x * 2  # double the current x\n",
    "    iteration += 1  # increment the iteration. Note that the += operator takes the variable and adds to itself. In other words, this is same as iteration = iteration + 1\n",
    "    print('Iteration', iteration, ', x =', x)  # print the current iteration and x for learning purposes\n",
    "\n",
    "x = x // 2  # undo the last iteration (use integer division (double-slash) to ensure we get int out, not float)\n",
    "\n",
    "print('Final!', x)  # print the final value"
   ]
  },
  {
   "cell_type": "markdown",
   "metadata": {},
   "source": [
    "### For loops iterate a specific number of times\n",
    "\n",
    "The built-in \"for loop\" allows you to loop over the items in a list-like object (called an \"iterable\"). The premise is always the same:\n",
    "```\n",
    "    for X in ITERABLE:\n",
    "        ...\n",
    "```\n",
    "Python will iterate as many times as there are elements in `ITERABLE`. In the i-th iteration, the variable `X` takes the value of the i-th elemnt in `ITERABLE`."
   ]
  },
  {
   "cell_type": "code",
   "execution_count": 58,
   "metadata": {},
   "outputs": [
    {
     "name": "stdout",
     "output_type": "stream",
     "text": [
      "['I', 'love', 'cats!']\n",
      "\n",
      "Example A\n",
      "\n",
      "word is I\n",
      "word is love\n",
      "word is cats!\n",
      "\n",
      "Example B\n",
      "\n",
      "(i, words[i]) is 0 I\n",
      "(i, words[i]) is 1 love\n",
      "(i, words[i]) is 2 cats!\n",
      "\n",
      "Example C\n",
      "\n",
      "(i, word) is 0 I\n",
      "(i, word) is 1 love\n",
      "(i, word) is 2 cats!\n"
     ]
    }
   ],
   "source": [
    "print(words)  # remind us what our iterable is\n",
    "num_words = len(words)  # number of elements in the iterable\n",
    "\n",
    "print('\\nExample A\\n')\n",
    "for word in words:  # each iteration, word takes a value of an element in words\n",
    "    print('word is', word)\n",
    "\n",
    "print('\\nExample B\\n')\n",
    "for i in range(len(words)):  # range(i) is a set of integers from 0 to i-1. so, each iteration, i goes 0, then 1, then 2, etc. i in this context is often called an \"index\".\n",
    "    print('(i, words[i]) is', i, words[i])  # print the index i as well as the i-th element in the words list\n",
    "\n",
    "print('\\nExample C\\n')\n",
    "for i, word in enumerate(words):  # enumerate is a very useful built-in that lets us get both the index AND the element in the list. easy peasy!\n",
    "    print('(i, word) is', i, word)\n"
   ]
  },
  {
   "cell_type": "markdown",
   "metadata": {},
   "source": [
    "**FINAL MODULE EXERCISE**\n",
    "\n",
    "In the cell below is an example function function called `evaluate_line_list()` that takes as input a list and returns a list of those points mapped to a line according to $y = a*x+b$.\n",
    "\n",
    "Create a function `evaluate_parabola_list()` that takes as input a list and returns a list of those points mapped to a parabola according to $y = a*x^2+b*x+c$.\n",
    "\n",
    "OPTIONAL: Write a second function that instead initializes `outputs` as an empty lists and then appends new values of y instead of directly assigning."
   ]
  },
  {
   "cell_type": "code",
   "execution_count": 106,
   "metadata": {},
   "outputs": [
    {
     "name": "stdout",
     "output_type": "stream",
     "text": [
      "The output of line 2x+1 for [1, 2, 3] is [3, 5, 7]\n",
      "The output of the parabola 2x**2+1*x + 4 for [1, 2, 3] is [7, 14, 25]\n"
     ]
    }
   ],
   "source": [
    "def evaluate_line_list(a, b, inputs):\n",
    "    \"\"\"Map a list of inputs to a line according to y = a*x + b.\"\"\"\n",
    "    outputs = [None] * len(inputs)  # initialize our output list\n",
    "    for index, x in enumerate(inputs):  # loop over our list of inputs, and use enumerate to get both the index and element\n",
    "        y = evaluate_line(a, b, x)  # call the evaluate_line function from above\n",
    "        outputs[index] = y  # assing the output to our output list\n",
    "    return outputs  # return the list\n",
    "\n",
    "# Example of calling evaluate_line_list\n",
    "a, b, inputs = 2, 1, [1, 2, 3]\n",
    "y = evaluate_line_list(a, b, inputs)\n",
    "print(f'The output of line {a}x+{b} for {inputs} is {y}')\n",
    "\n",
    "# TODO: Insert code here!\n",
    "def evaluate_parabola_list(a, b, c, inputs):\n",
    "    \"\"\"Map a list of inputs to a line according to y = a*x**2 + b*x + c.\"\"\"\n",
    "    outputs = []\n",
    "    for x in inputs:  # loop over our list of inputs, and use enumerate to get both the index and element\n",
    "        y = evaluate_parabola(a, b, c, x)  # call the evaluate_line function from above\n",
    "        outputs.append(y) # assing the output to our output list\n",
    "    return outputs  # return the list\n",
    "\n",
    "# Example of calling evaluate_parabola_list\n",
    "a, b, c, inputs = 2, 1, 4, [1, 2, 3]\n",
    "y = evaluate_parabola_list(a,b,c,inputs)\n",
    "print(f'The output of the parabola {a}x**2+{b}*x + {c} for {inputs} is {y}')"
   ]
  },
  {
   "cell_type": "markdown",
   "metadata": {},
   "source": [
    "## 5. Plotting data with Matplotlib\n",
    "\n",
    "For now, we will only go into the briefest example of using `matplotlib`. You can find many more examples and tutorials on the internet.\n",
    "\n",
    "**FINAL MODULE EXERCISE**\n",
    "\n",
    "  1. In the code cell below, where are the constants for the line ($a$ and $b$) and for the parabola ($a$, $b$ and $c$) defined?  \n",
    "        * **ANSWER**: here: a_line, b_line = 2, 1  # inputs to line function\n",
    "a_parab, b_parab, c_parab = 0, 2, 1  # inputs to parabola function  \n",
    "  2. Look at the code. What do you expect the plot to look like when you run it?  \n",
    "        * **ANSWER**: *(Insert your answer here!)*  \n",
    "  3. Change the `y_parabola` variable so that, instead of calling `evaluate_line_list`, it calls your new function `evaluate_parabola_list`.  \n",
    "  4. Mess around with the parabola constants and see how the plot changes. Does the result make sense? What do you observe?  \n",
    "        * **ANSWER**: *(Insert your answer here!)*  "
   ]
  },
  {
   "cell_type": "code",
   "execution_count": 137,
   "metadata": {},
   "outputs": [
    {
     "name": "stdout",
     "output_type": "stream",
     "text": [
      "[181, 145, 113, 85, 61, 41, 25, 13, 5, 1, 1, 5, 13, 25, 41, 61, 85, 113, 145, 181]\n"
     ]
    },
    {
     "data": {
      "image/png": "[encoded data removed]",
      "text/plain": [
       "<Figure size 500x350 with 1 Axes>"
      ]
     },
     "metadata": {},
     "output_type": "display_data"
    }
   ],
   "source": [
    "import matplotlib.pyplot as plt  # import a package that is not built-in. In this case, give alias \"plt\". Only need to do this once per script.\n",
    "\n",
    "# -------------------------- Setting up the data to plot --------------------------\n",
    "\n",
    "a_line, b_line = 2, 1  # inputs to line function\n",
    "a_parab, b_parab, c_parab = 2, 2, 1  # inputs to parabola function\n",
    "\n",
    "x = range(-10, 10)  # x-values that we want to calculate and plot\n",
    "\n",
    "y_line = evaluate_line_list(a_line, b_line, x)  # y-values for the line\n",
    "y_parabola = evaluate_parabola_list(a_parab, b_parab, c_parab, x)  # y-values for the parabola !!! TODO: Insert code here !!!\n",
    "print(y_parabola)\n",
    "# -------------------------- Making the plot --------------------------\n",
    "\n",
    "fig, ax = plt.subplots(figsize=(5, 3.5))  # initalize a figure and axes, specifying the aspect ratio\n",
    "\n",
    "ax.plot(x, y_line, label='Line')  # plot the line data, and give it a label for the legend\n",
    "ax.plot(x, y_parabola, linestyle='--', label='Parabola')  # plot the parabola data, making it a dashed line and giving a label\n",
    "\n",
    "ax.set(xlabel='x', ylabel='y')  # add labels to the x and y axes\n",
    "ax.legend()  # add a legend to the plot using the labelled data\n",
    "\n",
    "fig.tight_layout()  # scale everything to look pretty"
   ]
  },
  {
   "cell_type": "markdown",
   "metadata": {},
   "source": [
    "Just execute the cell below, but don't modify the code. We re-use this function in the final exercises."
   ]
  },
  {
   "cell_type": "code",
   "execution_count": 147,
   "metadata": {},
   "outputs": [],
   "source": [
    "# Place the plotting code into a function so we can re-use it in later cells without copy-pasting\n",
    "def plot_lines(x, y1, y2, label1, label2):\n",
    "    \"\"\"Make a function to plot two lines.\"\"\"\n",
    "    fig, ax = plt.subplots(figsize=(5, 3.5))  # initalize a figure and axes, specifying the aspect ratio\n",
    "\n",
    "    ax.plot(x, y1, label=label1)  # plot the line data, and give it a label for the legend\n",
    "    ax.plot(x, y2, linestyle='--', label=label2)  # plot the parabola data, making it a dashed line and giving a label\n",
    "\n",
    "    ax.set(xlabel='x', ylabel='y')  # add labels to the x and y axes\n",
    "    ax.legend()  # add a legend to the plot using the labelled data\n",
    "\n",
    "    fig.tight_layout()  # scale everything to look pretty\n",
    "\n",
    "    return ax"
   ]
  },
  {
   "cell_type": "markdown",
   "metadata": {},
   "source": [
    "## 6. If/else statements\n",
    "\n",
    "A simple task needed in all programming languages is \"conditional statements\". This is simple logic: \"if this, then this\". In Python, this looks like the code below."
   ]
  },
  {
   "cell_type": "code",
   "execution_count": 148,
   "metadata": {},
   "outputs": [
    {
     "name": "stdout",
     "output_type": "stream",
     "text": [
      "['I love cats quite a lot', ' And to be honest dogs are pretty cool as well', ' But nothing is quite like a good slice of cake', '']\n",
      "Sentence 0 Meow!\n",
      "Sentence 1 Woof!\n",
      "Sentence 2 YES PLEASE!\n",
      "Sentence 3 is boring!\n"
     ]
    }
   ],
   "source": [
    "sentences = long_text.split('.')\n",
    "print(sentences)\n",
    "\n",
    "for i, sentence in enumerate(sentences):\n",
    "    if 'cat' in sentence:\n",
    "        print('Sentence', i, 'Meow!')\n",
    "    elif 'dog' in sentence:\n",
    "        print('Sentence', i, 'Woof!')\n",
    "    elif 'cake' in sentence:\n",
    "        print('Sentence', i, 'YES PLEASE!')\n",
    "    else:\n",
    "        print('Sentence', i, 'is boring!')"
   ]
  },
  {
   "cell_type": "markdown",
   "metadata": {},
   "source": [
    "**FINAL MODULE EXERCISE**\n",
    "\n",
    "1. Make a function that takes a list of numbers and returns a list where any element outside the range of $[x_{min}, x_{max}]$ is clipped to the specified range.  \n",
    "2. Execute the cell. Does the plot look like what you expect? What do you see?  \n",
    "    * **ANSWER**: *(Insert your text here!)*"
   ]
  },
  {
   "cell_type": "code",
   "execution_count": 158,
   "metadata": {},
   "outputs": [
    {
     "data": {
      "text/plain": [
       "<Axes: xlabel='x', ylabel='y'>"
      ]
     },
     "execution_count": 158,
     "metadata": {},
     "output_type": "execute_result"
    },
    {
     "data": {
      "image/png": "[encoded data removed]",
      "text/plain": [
       "<Figure size 500x350 with 1 Axes>"
      ]
     },
     "metadata": {},
     "output_type": "display_data"
    }
   ],
   "source": [
    "def clip_list(x, x_min, x_max):\n",
    "    \"\"\"Clip the values in a list so that they fall within the given max and min values.\"\"\"\n",
    "    x_clip = []\n",
    "    for i in x:\n",
    "        if x_max > i:\n",
    "            if x_min < i:\n",
    "                x_clip.append(i)\n",
    "            else:\n",
    "                x_clip.append(x_min)\n",
    "        else:\n",
    "            x_clip.append(x_max)\n",
    "        \n",
    "\n",
    "    # insert code below to loop over each element in the list\n",
    "        # and then for each element, if it's too small, set it equal to x_min. and if it's too large, set it equal to x_max.\n",
    "    return x_clip\n",
    "\n",
    "\n",
    "x = range(-10, 11)  # x-values that we want to calculate and plot\n",
    "\n",
    "y_unclipped = evaluate_line_list(a_line, b_line, x)  # unclipped values\n",
    "y_clipped = clip_list(y_unclipped, -5, 5)  # clipped values\n",
    "\n",
    "plot_lines(x, y_unclipped, y_clipped, label1='Unclipped', label2='Clipped')"
   ]
  },
  {
   "cell_type": "markdown",
   "metadata": {},
   "source": [
    "## 7. Basics of NumPy\n",
    "\n",
    "This section is only scraping the surface of `numpy`. If you want to learn more about working with `numpy`, there are a plethora of tutorials on the internet.\n",
    "\n",
    "Scientific and engineering calculations often involve data or numbers arranged into vectors and/or matrices. However, the Python `list` object is not very well-aligned with numeric computations. As an example, here is what happens if we try to multiply a list `[1, 2, 3]` times 3:"
   ]
  },
  {
   "cell_type": "code",
   "execution_count": 159,
   "metadata": {},
   "outputs": [
    {
     "data": {
      "text/plain": [
       "[1, 2, 3, 1, 2, 3, 1, 2, 3]"
      ]
     },
     "execution_count": 159,
     "metadata": {},
     "output_type": "execute_result"
    }
   ],
   "source": [
    "3*[1, 2, 3]  # not what we want!"
   ]
  },
  {
   "cell_type": "markdown",
   "metadata": {},
   "source": [
    "The efficient writing of numeric computations is what drove the development of a now-widespread package called `numpy`, for \"numerical Python\". `numpy` includes a new Python object called a \"numpy array\", or `numpy.array`. This object is similar in some ways to lists, but it allows us to do computations with numeric data much more easily. Here is an example."
   ]
  },
  {
   "cell_type": "code",
   "execution_count": 165,
   "metadata": {},
   "outputs": [],
   "source": [
    "import numpy as np  # numpy is not built-in to Python, so we need to import it. It is tradition to import it under the alias \"np\"\n",
    "\n",
    "def evaluate_line_numpy(a, b, x):\n",
    "    \"\"\"Evaluate a line y = a*x + b using NumPy.\"\"\"\n",
    "    x = np.array(x)  # convert x to a numpy array in case a list was passed in\n",
    "    y = a*x + b  # evaluate line. no need for a for loop anymore!\n",
    "    return y"
   ]
  },
  {
   "cell_type": "code",
   "execution_count": 166,
   "metadata": {},
   "outputs": [
    {
     "data": {
      "image/png": "[encoded data removed]",
      "text/plain": [
       "<Figure size 500x350 with 1 Axes>"
      ]
     },
     "metadata": {},
     "output_type": "display_data"
    }
   ],
   "source": [
    "a_line, b_line = 2, 1  # inputs to line function\n",
    "\n",
    "x = np.linspace(-10, 10)  # x-values that we want to calculate and plot\n",
    "\n",
    "y_unclipped = evaluate_line_numpy(a, b, x)  # unclipped values\n",
    "y_clipped = np.clip(y_unclipped, -5, 5)  # numpy includes a clipping function! no need for us to write our own. :)\n",
    "\n",
    "plot_lines(x, y_unclipped, y_clipped, label1='Unclipped', label2='Clipped');  # plot the 2 lines"
   ]
  },
  {
   "cell_type": "markdown",
   "metadata": {},
   "source": [
    "**FINAL MODULE EXERCISE**\n",
    "\n",
    "1. In the cell below, create a function called `evaluate_parabola_numpy` that uses numpy arrays to evaluate the parabola. It will probably look very similar to `evaluate_line_numpy`. Remember to add a docstring!  \n",
    "2. Plot lines generated using `evaluate_parabola_list` and `evaluate_parabola_numpy` on top of one another. Do they match?  \n",
    "    * **ANSWER**: yes they do as shown under"
   ]
  },
  {
   "cell_type": "code",
   "execution_count": 169,
   "metadata": {},
   "outputs": [
    {
     "data": {
      "text/plain": [
       "<Axes: xlabel='x', ylabel='y'>"
      ]
     },
     "execution_count": 169,
     "metadata": {},
     "output_type": "execute_result"
    },
    {
     "data": {
      "image/png": "[encoded data removed]",
      "text/plain": [
       "<Figure size 500x350 with 1 Axes>"
      ]
     },
     "metadata": {},
     "output_type": "display_data"
    }
   ],
   "source": [
    "# TODO: Create function `evaluate_parabola_numpy`\n",
    "def evaluate_parabola_numpy(a, b, c, x):\n",
    "    \"\"\"Evaluate a line y = a*x**2 + b*x + c using NumPy.\"\"\"\n",
    "    x = np.array(x)\n",
    "    y = a*x**2 + b*x + c\n",
    "    return y\n",
    "# TODO: call plot_lines on the output of `evaluate_parabola_list` and `evaluate_parabola_numpy`\n",
    "y_numpy = evaluate_parabola_numpy(a_parab,b_parab, c_parab, x)\n",
    "y = evaluate_parabola_list(a_parab,b_parab, c_parab, x)\n",
    "plot_lines(x, y, y_numpy, label1=\"list method\", label2=\"numpy method\")\n"
   ]
  },
  {
   "cell_type": "markdown",
   "metadata": {},
   "source": [
    "## 8. Dictionaries\n",
    "\n",
    "The final fundamental Python object we will discuss is dictionaries. Again, consider this section a \"taster\" on how you can work with this object -- there is a lot more information we are not including. Don't want to drown you in information. :)\n",
    "\n",
    "A dictionary is a flexible object that allows you to store different Python objects in the same \"parent\" object, each object with it's own unique string identifier, called a key. This is often used as a container object, for example when storing metadata information.\n",
    "\n",
    "Here is an example of a dictionary that could serve as part of a database of measurements. Note the different types of objects as values!"
   ]
  },
  {
   "cell_type": "code",
   "execution_count": 170,
   "metadata": {},
   "outputs": [
    {
     "name": "stdout",
     "output_type": "stream",
     "text": [
      "KEYS: dict_keys(['data', 'device', 'timestamp', 'units'])\n",
      "\n",
      "CONTENTS:\n",
      "data [3 1 2 0 3 2 8]\n",
      "device 4\n",
      "timestamp 2024-12-14 10:36:00\n",
      "units N-m\n"
     ]
    }
   ],
   "source": [
    "measurement_1 = {'data': np.array([3, 1, 2, 0, 3, 2, 8]),  # the \"data\"\n",
    "                 'device': 4,  # which device acquired the measurements\n",
    "                 'timestamp': '2024-12-14 10:36:00',  # time at which the data was taken\n",
    "                 'units': 'N-m',  # measurement units\n",
    "                 }\n",
    "\n",
    "# print out the keys in the dictionary\n",
    "print('KEYS:', measurement_1.keys())\n",
    "\n",
    "# iterate over keys and items in the dictionary\n",
    "print('\\nCONTENTS:')\n",
    "for key, value in measurement_1.items():\n",
    "    print(key, value)\n"
   ]
  },
  {
   "cell_type": "markdown",
   "metadata": {},
   "source": [
    "**FINAL MODULE EXERCISE**\n",
    "\n",
    "1. Update the `ylines` dictionary so it has two keys, `Unclipped` and `Clipped`. The value for `Unclipped` should be `y_unclipped` defined above. The value for `Clipped` should be `y_clipped` defined above.  \n",
    "2. Add the code in the indicated spot to loop over the keys/values in `y_lines`.  \n",
    "3. Add code to define a variable (extracted from the dictionary) called `yplot`, which is the y values we want to plot.  \n",
    "4. Execute the cell. Does it do what you expected?  \n",
    "    * **ANSWER**: *(Insert your answer here!)*"
   ]
  },
  {
   "cell_type": "code",
   "execution_count": 179,
   "metadata": {},
   "outputs": [
    {
     "data": {
      "image/png": "[encoded data removed]",
      "text/plain": [
       "<Figure size 500x350 with 1 Axes>"
      ]
     },
     "metadata": {},
     "output_type": "display_data"
    }
   ],
   "source": [
    "# TODO: define the dictionary `y_lines` per notes above\n",
    "y_lines = {\n",
    "    'Unclipped' : y_unclipped,\n",
    "    'Clipped' : y_clipped,\n",
    "}\n",
    "\n",
    "fig, ax = plt.subplots(figsize=(5, 3.5))  # initalize a figure and axes, specifying the aspect ratio\n",
    "\n",
    "for i in y_lines:\n",
    "    y_polt = i\n",
    "\n",
    "# TODO: loop over the keys/values in the dictionary\n",
    "    # TODO: extract yplot from the dictionary\n",
    "    #ax.plot(x, yplot, label=key)  # plot the line data, and give it a label for the legend\n",
    "\n",
    "for key, yplot in y_lines.items():\n",
    "    ax.plot(x, yplot, label=key)    \n",
    "\n",
    "ax.set(xlabel='x', ylabel='y')  # add labels to the x and y axes\n",
    "ax.legend()  # add a legend to the plot using the labelled data\n",
    "\n",
    "fig.tight_layout()  # scale everything to look pretty"
   ]
  },
  {
   "cell_type": "markdown",
   "metadata": {},
   "source": [
    "## 9. What you still don't know\n",
    "\n",
    "This hopefully gets you familiar with some of the basics of Python syntax and functions. Please take other courses to develop your skills and, e.g., learn how to write code in `.py` files instead of isolated code in Jupyter notebooks.\n",
    "\n",
    "Things we haven't discussed that you will likely see in a scientific context:  \n",
    "* tuples and sets\n",
    "* `pandas` package for analysis/filtering of data and `scipy` for scientific computing  \n",
    "* More about functions: kwargs, anonymous (lambda) functions, function handles"
   ]
  },
  {
   "cell_type": "markdown",
   "metadata": {},
   "source": []
  }
 ],
 "metadata": {
  "kernelspec": {
   "display_name": "Python 3",
   "language": "python",
   "name": "python3"
  },
  "language_info": {
   "codemirror_mode": {
    "name": "ipython",
    "version": 3
   },
   "file_extension": ".py",
   "mimetype": "text/x-python",
   "name": "python",
   "nbconvert_exporter": "python",
   "pygments_lexer": "ipython3",
   "version": "3.12.3"
  }
 },
 "nbformat": 4,
 "nbformat_minor": 2
}
